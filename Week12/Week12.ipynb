{
  "nbformat": 4,
  "nbformat_minor": 0,
  "metadata": {
    "colab": {
      "provenance": [],
      "authorship_tag": "ABX9TyP5uDg5NxG5fKYy5OQNXTvv"
    },
    "kernelspec": {
      "name": "python3",
      "display_name": "Python 3"
    },
    "language_info": {
      "name": "python"
    }
  },
  "cells": [
    {
      "cell_type": "markdown",
      "source": [
        "# **PCVK**\n",
        "## WEEK 12 - Feature Matching, Face Detection, Face Tracking\n",
        "\n",
        "## Masfudin Dwi Cahyo (2141720010)\n",
        "## TI-3D"
      ],
      "metadata": {
        "id": "xm3dE1mMWF6y"
      }
    },
    {
      "cell_type": "markdown",
      "source": [
        "### Kelompok 3\n",
        "#####1. Aura Sagita Ashilah  (2141720102)\n",
        "\n",
        "#####2. Bryan toshin Saputro (2141720220)\n",
        "\n",
        "#####3. Masfudin Dwi Cahyo   (2141720010)\n",
        "\n",
        "\n",
        "\n"
      ],
      "metadata": {
        "id": "xMictN02W15U"
      }
    },
    {
      "cell_type": "markdown",
      "source": [
        "\n",
        "\n",
        "---\n",
        "\n",
        "\n",
        "\n",
        "# **PRAKTIKUM**\n",
        "\n",
        "\n",
        "---\n",
        "\n"
      ],
      "metadata": {
        "id": "-CVhBPRUYEb6"
      }
    },
    {
      "cell_type": "markdown",
      "source": [
        "## **1. Import Library**"
      ],
      "metadata": {
        "id": "Fguv_fAuXAg7"
      }
    },
    {
      "cell_type": "code",
      "source": [
        "import cv2\n",
        "import numpy as np\n",
        "from matplotlib import pyplot as plt\n",
        "from google.colab.patches import cv2_imshow"
      ],
      "metadata": {
        "id": "xJrO_g0BXDK2"
      },
      "execution_count": 1,
      "outputs": []
    },
    {
      "cell_type": "markdown",
      "source": [
        "# **Load Data**"
      ],
      "metadata": {
        "id": "UzUwMjSRYNfr"
      }
    },
    {
      "cell_type": "code",
      "execution_count": 4,
      "metadata": {
        "id": "TvB0Z5pyVMN7",
        "outputId": "bd6cdf95-d491-4748-d66f-f4d7b73d6088",
        "colab": {
          "base_uri": "https://localhost:8080/"
        }
      },
      "outputs": [
        {
          "output_type": "stream",
          "name": "stdout",
          "text": [
            "Mounted at /content/drive\n"
          ]
        }
      ],
      "source": [
        "from google.colab import drive\n",
        "drive.mount('/content/drive')"
      ]
    },
    {
      "cell_type": "code",
      "source": [
        "images = cv2.imread('/content/drive/MyDrive/PCVK/Week12/Face Detection/images.jpg')\n",
        "jokowi = cv2.imread('/content/drive/MyDrive/PCVK/Week12/Face Detection/jokowi.jpg')\n",
        "kartini = cv2.imread('/content/drive/MyDrive/PCVK/Week12/Face Detection/kartini.jpg')\n",
        "kucing2 = cv2.imread('/content/drive/MyDrive/PCVK/Week12/Face Detection/kucing2.jpg')\n",
        "many_cereals = cv2.imread('/content/drive/MyDrive/PCVK/Week12/Face Detection/many_cereals.jpg')\n",
        "mask = cv2.imread('/content/drive/MyDrive/PCVK/Week12/Face Detection/mask.jpg')\n",
        "mjordan = cv2.imread('/content/drive/MyDrive/PCVK/Week12/Face Detection/mjordan.jpg')\n",
        "mycat = cv2.imread('/content/drive/MyDrive/PCVK/Week12/Face Detection/mycat.jpg')\n",
        "people = cv2.imread('/content/drive/MyDrive/PCVK/Week12/Face Detection/people.jpg')\n",
        "reeses_puffs = cv2.imread('/content/drive/MyDrive/PCVK/Week12/Face Detection/reeses_puffs.jpg')\n",
        "smile = cv2.imread('/content/drive/MyDrive/PCVK/Week12/Face Detection/smile.jpg')\n",
        "solvayconf = cv2.imread('/content/drive/MyDrive/PCVK/Week12/Face Detection/solvayconf.jpg')"
      ],
      "metadata": {
        "id": "T7WRDiSFYSGQ"
      },
      "execution_count": 5,
      "outputs": []
    },
    {
      "cell_type": "code",
      "source": [],
      "metadata": {
        "id": "9AbjIFvybEFc"
      },
      "execution_count": null,
      "outputs": []
    }
  ]
}