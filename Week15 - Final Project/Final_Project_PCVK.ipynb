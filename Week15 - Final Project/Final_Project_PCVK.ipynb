{
  "nbformat": 4,
  "nbformat_minor": 0,
  "metadata": {
    "colab": {
      "provenance": [],
      "authorship_tag": "ABX9TyN6vx6Uz0wqDKm7565WjEw2"
    },
    "kernelspec": {
      "name": "python3",
      "display_name": "Python 3"
    },
    "language_info": {
      "name": "python"
    }
  },
  "cells": [
    {
      "cell_type": "markdown",
      "source": [
        "# **PCVK**\n",
        "\n",
        "# Final Project\n",
        "\n",
        "# **TI-3D**\n",
        "\n",
        "## **Kelompok 3**\n",
        "\n",
        "\n",
        "- ### **Aura Sagita Ashilah (2141720102)**\n",
        "- ### **Bryan Toshin Saputro (2141720220)**\n",
        "- ### **Masfudin Dwi Cahyo (2141720010)**\n",
        "\n",
        "\n",
        "---\n",
        "\n"
      ],
      "metadata": {
        "id": "a-5fh6wkAEBo"
      }
    },
    {
      "cell_type": "markdown",
      "source": [
        "# **Import Library**"
      ],
      "metadata": {
        "id": "dH6l7rh9kKIP"
      }
    },
    {
      "cell_type": "code",
      "execution_count": null,
      "metadata": {
        "id": "6Q5uPPHejAi1"
      },
      "outputs": [],
      "source": [
        "import tensorflow as tf\n",
        "import numpy as np\n",
        "import pandas as pd\n",
        "import matplotlib.pyplot as plt\n",
        "import seaborn as sns\n",
        "from sklearn.preprocessing import LabelBinarizer\n",
        "from sklearn.model_selection import train_test_split\n",
        "from sklearn.metrics import classification_report\n",
        "import zipfile"
      ]
    },
    {
      "cell_type": "markdown",
      "source": [],
      "metadata": {
        "id": "PKNBsxOUCRks"
      }
    }
  ]
}