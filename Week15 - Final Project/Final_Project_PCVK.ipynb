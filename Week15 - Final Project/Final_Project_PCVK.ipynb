{
  "nbformat": 4,
  "nbformat_minor": 0,
  "metadata": {
    "colab": {
      "provenance": [],
      "authorship_tag": "ABX9TyOUrzqTz3R38qfExNX0ikgp"
    },
    "kernelspec": {
      "name": "python3",
      "display_name": "Python 3"
    },
    "language_info": {
      "name": "python"
    }
  },
  "cells": [
    {
      "cell_type": "markdown",
      "source": [
        "# **PCVK**\n",
        "\n",
        "# Final Project\n",
        "\n",
        "# **TI-3D**\n",
        "\n",
        "## **Kelompok 3**\n",
        "\n",
        "\n",
        "- ### **Aura Sagita Ashilah (2141720102)**\n",
        "- ### **Bryan Toshin Saputro (2141720220)**\n",
        "- ### **Masfudin Dwi Cahyo (2141720010)**\n",
        "\n",
        "\n",
        "---\n",
        "\n"
      ],
      "metadata": {
        "id": "a-5fh6wkAEBo"
      }
    }
  ]
}