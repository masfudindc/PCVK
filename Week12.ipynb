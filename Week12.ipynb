{
  "nbformat": 4,
  "nbformat_minor": 0,
  "metadata": {
    "colab": {
      "provenance": [],
      "authorship_tag": "ABX9TyPJElIyXUilihL/MNqglpMO"
    },
    "kernelspec": {
      "name": "python3",
      "display_name": "Python 3"
    },
    "language_info": {
      "name": "python"
    }
  },
  "cells": [
    {
      "cell_type": "markdown",
      "source": [
        "# **PCVK**\n",
        "## WEEK 12 - Feature Matching, Face Detection, Face Tracking\n",
        "\n",
        "## Masfudin Dwi Cahyo (2141720010)\n",
        "## TI-3D"
      ],
      "metadata": {
        "id": "xm3dE1mMWF6y"
      }
    },
    {
      "cell_type": "markdown",
      "source": [
        "### Kelompok 3\n",
        "#####1. Aura Sagita Ashilah  (2141720102)\n",
        "\n",
        "#####2. Bryan toshin Saputro (2141720220)\n",
        "\n",
        "#####3. Masfudin Dwi Cahyo   (2141720010)\n",
        "\n",
        "\n",
        "\n",
        "---\n",
        "\n"
      ],
      "metadata": {
        "id": "xMictN02W15U"
      }
    },
    {
      "cell_type": "markdown",
      "source": [
        "## **Import Library**"
      ],
      "metadata": {
        "id": "Fguv_fAuXAg7"
      }
    },
    {
      "cell_type": "code",
      "source": [],
      "metadata": {
        "id": "xJrO_g0BXDK2"
      },
      "execution_count": null,
      "outputs": []
    },
    {
      "cell_type": "code",
      "execution_count": null,
      "metadata": {
        "id": "TvB0Z5pyVMN7"
      },
      "outputs": [],
      "source": []
    }
  ]
}